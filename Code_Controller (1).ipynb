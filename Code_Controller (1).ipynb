{
  "nbformat": 4,
  "nbformat_minor": 0,
  "metadata": {
    "kernelspec": {
      "name": "python3",
      "display_name": "Python 3"
    },
    "language_info": {
      "codemirror_mode": {
        "name": "ipython",
        "version": 3
      },
      "file_extension": ".py",
      "mimetype": "text/x-python",
      "name": "python",
      "nbconvert_exporter": "python",
      "pygments_lexer": "ipython3",
      "version": "3.7.3"
    },
    "colab": {
      "name": "Code_Controller.ipynb",
      "provenance": [],
      "collapsed_sections": [],
      "toc_visible": true
    },
    "accelerator": "GPU",
    "widgets": {
      "application/vnd.jupyter.widget-state+json": {
        "35300651f9614c4db56f14c83cd0d9fc": {
          "model_module": "@jupyter-widgets/controls",
          "model_name": "HBoxModel",
          "state": {
            "_view_name": "HBoxView",
            "_dom_classes": [],
            "_model_name": "HBoxModel",
            "_view_module": "@jupyter-widgets/controls",
            "_model_module_version": "1.5.0",
            "_view_count": null,
            "_view_module_version": "1.5.0",
            "box_style": "",
            "layout": "IPY_MODEL_0e4204a5c62b40dda1058c2ad0ecb72b",
            "_model_module": "@jupyter-widgets/controls",
            "children": [
              "IPY_MODEL_daed84fc0efb491da407615f57404cdb",
              "IPY_MODEL_84dd50fd763a439999c63f84dae9c73b"
            ]
          }
        },
        "0e4204a5c62b40dda1058c2ad0ecb72b": {
          "model_module": "@jupyter-widgets/base",
          "model_name": "LayoutModel",
          "state": {
            "_view_name": "LayoutView",
            "grid_template_rows": null,
            "right": null,
            "justify_content": null,
            "_view_module": "@jupyter-widgets/base",
            "overflow": null,
            "_model_module_version": "1.2.0",
            "_view_count": null,
            "flex_flow": null,
            "width": null,
            "min_width": null,
            "border": null,
            "align_items": null,
            "bottom": null,
            "_model_module": "@jupyter-widgets/base",
            "top": null,
            "grid_column": null,
            "overflow_y": null,
            "overflow_x": null,
            "grid_auto_flow": null,
            "grid_area": null,
            "grid_template_columns": null,
            "flex": null,
            "_model_name": "LayoutModel",
            "justify_items": null,
            "grid_row": null,
            "max_height": null,
            "align_content": null,
            "visibility": null,
            "align_self": null,
            "height": null,
            "min_height": null,
            "padding": null,
            "grid_auto_rows": null,
            "grid_gap": null,
            "max_width": null,
            "order": null,
            "_view_module_version": "1.2.0",
            "grid_template_areas": null,
            "object_position": null,
            "object_fit": null,
            "grid_auto_columns": null,
            "margin": null,
            "display": null,
            "left": null
          }
        },
        "daed84fc0efb491da407615f57404cdb": {
          "model_module": "@jupyter-widgets/controls",
          "model_name": "IntProgressModel",
          "state": {
            "_view_name": "ProgressView",
            "style": "IPY_MODEL_e5a1618858ce4626b23fe9b9ba34940e",
            "_dom_classes": [],
            "description": "",
            "_model_name": "IntProgressModel",
            "bar_style": "info",
            "max": 1,
            "_view_module": "@jupyter-widgets/controls",
            "_model_module_version": "1.5.0",
            "value": 1,
            "_view_count": null,
            "_view_module_version": "1.5.0",
            "orientation": "horizontal",
            "min": 0,
            "description_tooltip": null,
            "_model_module": "@jupyter-widgets/controls",
            "layout": "IPY_MODEL_42a89939a7b64670bcf48aab3ef366f0"
          }
        },
        "84dd50fd763a439999c63f84dae9c73b": {
          "model_module": "@jupyter-widgets/controls",
          "model_name": "HTMLModel",
          "state": {
            "_view_name": "HTMLView",
            "style": "IPY_MODEL_b40572461c124602bf7c5a117dd749fa",
            "_dom_classes": [],
            "description": "",
            "_model_name": "HTMLModel",
            "placeholder": "​",
            "_view_module": "@jupyter-widgets/controls",
            "_model_module_version": "1.5.0",
            "value": "170500096it [00:30, 14268553.79it/s]",
            "_view_count": null,
            "_view_module_version": "1.5.0",
            "description_tooltip": null,
            "_model_module": "@jupyter-widgets/controls",
            "layout": "IPY_MODEL_9fa1ee4b8fc1410cb245b474e07f5a93"
          }
        },
        "e5a1618858ce4626b23fe9b9ba34940e": {
          "model_module": "@jupyter-widgets/controls",
          "model_name": "ProgressStyleModel",
          "state": {
            "_view_name": "StyleView",
            "_model_name": "ProgressStyleModel",
            "description_width": "",
            "_view_module": "@jupyter-widgets/base",
            "_model_module_version": "1.5.0",
            "_view_count": null,
            "_view_module_version": "1.2.0",
            "bar_color": null,
            "_model_module": "@jupyter-widgets/controls"
          }
        },
        "42a89939a7b64670bcf48aab3ef366f0": {
          "model_module": "@jupyter-widgets/base",
          "model_name": "LayoutModel",
          "state": {
            "_view_name": "LayoutView",
            "grid_template_rows": null,
            "right": null,
            "justify_content": null,
            "_view_module": "@jupyter-widgets/base",
            "overflow": null,
            "_model_module_version": "1.2.0",
            "_view_count": null,
            "flex_flow": null,
            "width": null,
            "min_width": null,
            "border": null,
            "align_items": null,
            "bottom": null,
            "_model_module": "@jupyter-widgets/base",
            "top": null,
            "grid_column": null,
            "overflow_y": null,
            "overflow_x": null,
            "grid_auto_flow": null,
            "grid_area": null,
            "grid_template_columns": null,
            "flex": null,
            "_model_name": "LayoutModel",
            "justify_items": null,
            "grid_row": null,
            "max_height": null,
            "align_content": null,
            "visibility": null,
            "align_self": null,
            "height": null,
            "min_height": null,
            "padding": null,
            "grid_auto_rows": null,
            "grid_gap": null,
            "max_width": null,
            "order": null,
            "_view_module_version": "1.2.0",
            "grid_template_areas": null,
            "object_position": null,
            "object_fit": null,
            "grid_auto_columns": null,
            "margin": null,
            "display": null,
            "left": null
          }
        },
        "b40572461c124602bf7c5a117dd749fa": {
          "model_module": "@jupyter-widgets/controls",
          "model_name": "DescriptionStyleModel",
          "state": {
            "_view_name": "StyleView",
            "_model_name": "DescriptionStyleModel",
            "description_width": "",
            "_view_module": "@jupyter-widgets/base",
            "_model_module_version": "1.5.0",
            "_view_count": null,
            "_view_module_version": "1.2.0",
            "_model_module": "@jupyter-widgets/controls"
          }
        },
        "9fa1ee4b8fc1410cb245b474e07f5a93": {
          "model_module": "@jupyter-widgets/base",
          "model_name": "LayoutModel",
          "state": {
            "_view_name": "LayoutView",
            "grid_template_rows": null,
            "right": null,
            "justify_content": null,
            "_view_module": "@jupyter-widgets/base",
            "overflow": null,
            "_model_module_version": "1.2.0",
            "_view_count": null,
            "flex_flow": null,
            "width": null,
            "min_width": null,
            "border": null,
            "align_items": null,
            "bottom": null,
            "_model_module": "@jupyter-widgets/base",
            "top": null,
            "grid_column": null,
            "overflow_y": null,
            "overflow_x": null,
            "grid_auto_flow": null,
            "grid_area": null,
            "grid_template_columns": null,
            "flex": null,
            "_model_name": "LayoutModel",
            "justify_items": null,
            "grid_row": null,
            "max_height": null,
            "align_content": null,
            "visibility": null,
            "align_self": null,
            "height": null,
            "min_height": null,
            "padding": null,
            "grid_auto_rows": null,
            "grid_gap": null,
            "max_width": null,
            "order": null,
            "_view_module_version": "1.2.0",
            "grid_template_areas": null,
            "object_position": null,
            "object_fit": null,
            "grid_auto_columns": null,
            "margin": null,
            "display": null,
            "left": null
          }
        }
      }
    }
  },
  "cells": [
    {
      "cell_type": "code",
      "metadata": {
        "id": "YFHHFQzv_qJ0",
        "colab_type": "code",
        "colab": {}
      },
      "source": [
        "from __future__ import print_function\n",
        "import torch\n",
        "import torch.nn as nn\n",
        "import torch.nn.functional as F\n",
        "import torch.optim as optim\n",
        "from torchvision import datasets, transforms\n",
        "from tqdm import tqdm\n",
        "from torch.optim.lr_scheduler import StepLR\n",
        "import matplotlib.pyplot as plt\n",
        "import numpy as np\n",
        "import torchvision\n",
        "import torchsummary\n",
        "from torchsummary import summary"
      ],
      "execution_count": 0,
      "outputs": []
    },
    {
      "cell_type": "markdown",
      "metadata": {
        "id": "N-fkSGTa_qJ9",
        "colab_type": "text"
      },
      "source": [
        "## Importing all the files created "
      ]
    },
    {
      "cell_type": "code",
      "metadata": {
        "id": "8jjHeSdO_qJ_",
        "colab_type": "code",
        "colab": {}
      },
      "source": [
        "from Getting_the_Data import get_and_transform_the_data\n",
        "from Displaying_the_images import display_my_images\n",
        "from Model_and_summary import Net, disp_summary\n",
        "from train_test import train , test"
      ],
      "execution_count": 0,
      "outputs": []
    },
    {
      "cell_type": "markdown",
      "metadata": {
        "id": "M-CMa8kc_qKF",
        "colab_type": "text"
      },
      "source": [
        "## First step is to download and transform the data which here is CIFAR-10"
      ]
    },
    {
      "cell_type": "code",
      "metadata": {
        "id": "FN0DK5Cx_qKH",
        "colab_type": "code",
        "outputId": "dab53acd-fdee-4573-9a8a-c034fc9170aa",
        "colab": {
          "base_uri": "https://localhost:8080/",
          "height": 116,
          "referenced_widgets": [
            "35300651f9614c4db56f14c83cd0d9fc",
            "0e4204a5c62b40dda1058c2ad0ecb72b",
            "daed84fc0efb491da407615f57404cdb",
            "84dd50fd763a439999c63f84dae9c73b",
            "e5a1618858ce4626b23fe9b9ba34940e",
            "42a89939a7b64670bcf48aab3ef366f0",
            "b40572461c124602bf7c5a117dd749fa",
            "9fa1ee4b8fc1410cb245b474e07f5a93"
          ]
        }
      },
      "source": [
        "train_set,test_set,train_loader,test_loader,classes = get_and_transform_the_data()"
      ],
      "execution_count": 9,
      "outputs": [
        {
          "output_type": "stream",
          "text": [
            "CUDA Available? True\n",
            "Downloading https://www.cs.toronto.edu/~kriz/cifar-10-python.tar.gz to ./data/cifar-10-python.tar.gz\n"
          ],
          "name": "stdout"
        },
        {
          "output_type": "display_data",
          "data": {
            "application/vnd.jupyter.widget-view+json": {
              "model_id": "35300651f9614c4db56f14c83cd0d9fc",
              "version_minor": 0,
              "version_major": 2
            },
            "text/plain": [
              "HBox(children=(IntProgress(value=1, bar_style='info', max=1), HTML(value='')))"
            ]
          },
          "metadata": {
            "tags": []
          }
        },
        {
          "output_type": "stream",
          "text": [
            "Extracting ./data/cifar-10-python.tar.gz to ./data\n",
            "Files already downloaded and verified\n"
          ],
          "name": "stdout"
        }
      ]
    },
    {
      "cell_type": "markdown",
      "metadata": {
        "id": "8Qd5l1Lm_qKW",
        "colab_type": "text"
      },
      "source": [
        "## Moving the model for GPU usage"
      ]
    },
    {
      "cell_type": "code",
      "metadata": {
        "id": "iNZbU4Jn_qKY",
        "colab_type": "code",
        "colab": {}
      },
      "source": [
        "use_cuda= torch.cuda.is_available()\n",
        "device=torch.device('cuda' if use_cuda else 'cpu')\n",
        "model=Net().to(device)"
      ],
      "execution_count": 0,
      "outputs": []
    },
    {
      "cell_type": "code",
      "metadata": {
        "id": "tgdDWmiN_qKd",
        "colab_type": "code",
        "outputId": "4e779b60-6c18-4590-e602-4b753be97085",
        "colab": {
          "base_uri": "https://localhost:8080/",
          "height": 1000
        }
      },
      "source": [
        "disp_summary(model)"
      ],
      "execution_count": 11,
      "outputs": [
        {
          "output_type": "stream",
          "text": [
            "----------------------------------------------------------------\n",
            "        Layer (type)               Output Shape         Param #\n",
            "================================================================\n",
            "            Conv2d-1           [-1, 32, 32, 32]             864\n",
            "       BatchNorm2d-2           [-1, 32, 32, 32]              64\n",
            "              ReLU-3           [-1, 32, 32, 32]               0\n",
            "         Dropout2d-4           [-1, 32, 32, 32]               0\n",
            "            Conv2d-5           [-1, 32, 32, 32]           9,216\n",
            "       BatchNorm2d-6           [-1, 32, 32, 32]              64\n",
            "              ReLU-7           [-1, 32, 32, 32]               0\n",
            "         Dropout2d-8           [-1, 32, 32, 32]               0\n",
            "            Conv2d-9           [-1, 64, 32, 32]          18,432\n",
            "      BatchNorm2d-10           [-1, 64, 32, 32]             128\n",
            "             ReLU-11           [-1, 64, 32, 32]               0\n",
            "        Dropout2d-12           [-1, 64, 32, 32]               0\n",
            "           Conv2d-13          [-1, 128, 30, 30]          73,728\n",
            "      BatchNorm2d-14          [-1, 128, 30, 30]             256\n",
            "             ReLU-15          [-1, 128, 30, 30]               0\n",
            "        Dropout2d-16          [-1, 128, 30, 30]               0\n",
            "           Conv2d-17          [-1, 256, 30, 30]         294,912\n",
            "      BatchNorm2d-18          [-1, 256, 30, 30]             512\n",
            "             ReLU-19          [-1, 256, 30, 30]               0\n",
            "        Dropout2d-20          [-1, 256, 30, 30]               0\n",
            "        MaxPool2d-21          [-1, 256, 15, 15]               0\n",
            "           Conv2d-22           [-1, 64, 15, 15]          16,384\n",
            "           Conv2d-23          [-1, 128, 15, 15]          73,728\n",
            "      BatchNorm2d-24          [-1, 128, 15, 15]             256\n",
            "             ReLU-25          [-1, 128, 15, 15]               0\n",
            "        Dropout2d-26          [-1, 128, 15, 15]               0\n",
            "           Conv2d-27          [-1, 128, 15, 15]         147,456\n",
            "      BatchNorm2d-28          [-1, 128, 15, 15]             256\n",
            "             ReLU-29          [-1, 128, 15, 15]               0\n",
            "        Dropout2d-30          [-1, 128, 15, 15]               0\n",
            "           Conv2d-31          [-1, 256, 15, 15]           2,304\n",
            "      BatchNorm2d-32          [-1, 256, 15, 15]             512\n",
            "             ReLU-33          [-1, 256, 15, 15]               0\n",
            "        Dropout2d-34          [-1, 256, 15, 15]               0\n",
            "        MaxPool2d-35            [-1, 256, 7, 7]               0\n",
            "           Conv2d-36             [-1, 32, 7, 7]           8,192\n",
            "           Conv2d-37             [-1, 64, 7, 7]          18,432\n",
            "      BatchNorm2d-38             [-1, 64, 7, 7]             128\n",
            "             ReLU-39             [-1, 64, 7, 7]               0\n",
            "        Dropout2d-40             [-1, 64, 7, 7]               0\n",
            "           Conv2d-41            [-1, 128, 7, 7]          73,728\n",
            "      BatchNorm2d-42            [-1, 128, 7, 7]             256\n",
            "             ReLU-43            [-1, 128, 7, 7]               0\n",
            "        Dropout2d-44            [-1, 128, 7, 7]               0\n",
            "           Conv2d-45            [-1, 128, 7, 7]           1,152\n",
            "           Conv2d-46            [-1, 256, 7, 7]          32,768\n",
            "      BatchNorm2d-47            [-1, 256, 7, 7]             512\n",
            "             ReLU-48            [-1, 256, 7, 7]               0\n",
            "        Dropout2d-49            [-1, 256, 7, 7]               0\n",
            "        MaxPool2d-50            [-1, 256, 3, 3]               0\n",
            "           Conv2d-51             [-1, 16, 3, 3]           4,096\n",
            "           Conv2d-52            [-1, 128, 3, 3]          18,432\n",
            "      BatchNorm2d-53            [-1, 128, 3, 3]             256\n",
            "             ReLU-54            [-1, 128, 3, 3]               0\n",
            "        AvgPool2d-55            [-1, 128, 1, 1]               0\n",
            "           Conv2d-56             [-1, 10, 1, 1]           1,280\n",
            "================================================================\n",
            "Total params: 798,304\n",
            "Trainable params: 798,304\n",
            "Non-trainable params: 0\n",
            "----------------------------------------------------------------\n",
            "Input size (MB): 0.01\n",
            "Forward/backward pass size (MB): 19.48\n",
            "Params size (MB): 3.05\n",
            "Estimated Total Size (MB): 22.54\n",
            "----------------------------------------------------------------\n"
          ],
          "name": "stdout"
        },
        {
          "output_type": "stream",
          "text": [
            "/content/Model_and_summary.py:100: UserWarning: Implicit dimension choice for log_softmax has been deprecated. Change the call to include dim=X as an argument.\n",
            "  return F.log_softmax(x)\n"
          ],
          "name": "stderr"
        }
      ]
    },
    {
      "cell_type": "code",
      "metadata": {
        "id": "eYmRk12R_qKj",
        "colab_type": "code",
        "outputId": "4ed37b3d-f497-44e8-d47a-024f226fa222",
        "colab": {
          "base_uri": "https://localhost:8080/",
          "height": 1000
        }
      },
      "source": [
        "device= 'cuda' if torch.cuda.is_available() else 'cpu'\n",
        "\n",
        "optimizer = optim.SGD(model.parameters(), lr=0.1)\n",
        "scheduler = StepLR(optimizer,step_size=6, gamma=0.1)\n",
        "\n",
        "for epoch in range(1, 21):\n",
        "    print(f'Epoch: {epoch} Learning_Rate {scheduler.get_lr()}')\n",
        "    train(model, device, train_loader, optimizer, epoch)\n",
        "    test(model, device, test_loader)\n",
        "    scheduler.step()"
      ],
      "execution_count": 12,
      "outputs": [
        {
          "output_type": "stream",
          "text": [
            "\r  0%|          | 0/782 [00:00<?, ?it/s]"
          ],
          "name": "stderr"
        },
        {
          "output_type": "stream",
          "text": [
            "Epoch: 1 Learning_Rate [0.1]\n"
          ],
          "name": "stdout"
        },
        {
          "output_type": "stream",
          "text": [
            "/content/Model_and_summary.py:100: UserWarning: Implicit dimension choice for log_softmax has been deprecated. Change the call to include dim=X as an argument.\n",
            "  return F.log_softmax(x)\n",
            "Loss=1.5244123935699463 Batch_id=781 Accuracy=39.78: 100%|██████████| 782/782 [00:39<00:00, 21.21it/s]\n",
            "  0%|          | 0/782 [00:00<?, ?it/s]"
          ],
          "name": "stderr"
        },
        {
          "output_type": "stream",
          "text": [
            "\n",
            "Test set: Average loss: 1.3870, Accuracy: 4904/10000 (49.04%)\n",
            "\n",
            "Epoch: 2 Learning_Rate [0.1]\n"
          ],
          "name": "stdout"
        },
        {
          "output_type": "stream",
          "text": [
            "Loss=1.5042799711227417 Batch_id=781 Accuracy=56.90: 100%|██████████| 782/782 [00:40<00:00, 19.47it/s]\n",
            "  0%|          | 0/782 [00:00<?, ?it/s]"
          ],
          "name": "stderr"
        },
        {
          "output_type": "stream",
          "text": [
            "\n",
            "Test set: Average loss: 1.0682, Accuracy: 6192/10000 (61.92%)\n",
            "\n",
            "Epoch: 3 Learning_Rate [0.1]\n"
          ],
          "name": "stdout"
        },
        {
          "output_type": "stream",
          "text": [
            "Loss=0.794559895992279 Batch_id=781 Accuracy=65.48: 100%|██████████| 782/782 [00:41<00:00, 18.66it/s]\n",
            "  0%|          | 0/782 [00:00<?, ?it/s]"
          ],
          "name": "stderr"
        },
        {
          "output_type": "stream",
          "text": [
            "\n",
            "Test set: Average loss: 0.8335, Accuracy: 7070/10000 (70.70%)\n",
            "\n",
            "Epoch: 4 Learning_Rate [0.1]\n"
          ],
          "name": "stdout"
        },
        {
          "output_type": "stream",
          "text": [
            "Loss=0.5160939693450928 Batch_id=781 Accuracy=70.10: 100%|██████████| 782/782 [00:41<00:00, 18.83it/s]\n",
            "  0%|          | 0/782 [00:00<?, ?it/s]"
          ],
          "name": "stderr"
        },
        {
          "output_type": "stream",
          "text": [
            "\n",
            "Test set: Average loss: 0.7816, Accuracy: 7257/10000 (72.57%)\n",
            "\n",
            "Epoch: 5 Learning_Rate [0.1]\n"
          ],
          "name": "stdout"
        },
        {
          "output_type": "stream",
          "text": [
            "Loss=1.559235692024231 Batch_id=781 Accuracy=73.31: 100%|██████████| 782/782 [00:41<00:00, 18.78it/s]\n",
            "  0%|          | 0/782 [00:00<?, ?it/s]"
          ],
          "name": "stderr"
        },
        {
          "output_type": "stream",
          "text": [
            "\n",
            "Test set: Average loss: 0.8452, Accuracy: 7040/10000 (70.40%)\n",
            "\n",
            "Epoch: 6 Learning_Rate [0.1]\n"
          ],
          "name": "stdout"
        },
        {
          "output_type": "stream",
          "text": [
            "Loss=0.35980018973350525 Batch_id=781 Accuracy=75.43: 100%|██████████| 782/782 [00:41<00:00, 18.94it/s]\n",
            "  0%|          | 0/782 [00:00<?, ?it/s]"
          ],
          "name": "stderr"
        },
        {
          "output_type": "stream",
          "text": [
            "\n",
            "Test set: Average loss: 0.6518, Accuracy: 7751/10000 (77.51%)\n",
            "\n",
            "Epoch: 7 Learning_Rate [0.0010000000000000002]\n"
          ],
          "name": "stdout"
        },
        {
          "output_type": "stream",
          "text": [
            "Loss=0.35470232367515564 Batch_id=781 Accuracy=79.12: 100%|██████████| 782/782 [00:41<00:00, 18.71it/s]\n",
            "  0%|          | 0/782 [00:00<?, ?it/s]"
          ],
          "name": "stderr"
        },
        {
          "output_type": "stream",
          "text": [
            "\n",
            "Test set: Average loss: 0.5480, Accuracy: 8094/10000 (80.94%)\n",
            "\n",
            "Epoch: 8 Learning_Rate [0.010000000000000002]\n"
          ],
          "name": "stdout"
        },
        {
          "output_type": "stream",
          "text": [
            "Loss=1.1377911567687988 Batch_id=781 Accuracy=80.02: 100%|██████████| 782/782 [00:41<00:00, 19.05it/s]\n",
            "  0%|          | 0/782 [00:00<?, ?it/s]"
          ],
          "name": "stderr"
        },
        {
          "output_type": "stream",
          "text": [
            "\n",
            "Test set: Average loss: 0.5377, Accuracy: 8132/10000 (81.32%)\n",
            "\n",
            "Epoch: 9 Learning_Rate [0.010000000000000002]\n"
          ],
          "name": "stdout"
        },
        {
          "output_type": "stream",
          "text": [
            "Loss=0.5031262636184692 Batch_id=781 Accuracy=80.69: 100%|██████████| 782/782 [00:41<00:00, 18.90it/s]\n",
            "  0%|          | 0/782 [00:00<?, ?it/s]"
          ],
          "name": "stderr"
        },
        {
          "output_type": "stream",
          "text": [
            "\n",
            "Test set: Average loss: 0.5273, Accuracy: 8168/10000 (81.68%)\n",
            "\n",
            "Epoch: 10 Learning_Rate [0.010000000000000002]\n"
          ],
          "name": "stdout"
        },
        {
          "output_type": "stream",
          "text": [
            "Loss=0.6950119733810425 Batch_id=781 Accuracy=80.95: 100%|██████████| 782/782 [00:41<00:00, 18.84it/s]\n",
            "  0%|          | 0/782 [00:00<?, ?it/s]"
          ],
          "name": "stderr"
        },
        {
          "output_type": "stream",
          "text": [
            "\n",
            "Test set: Average loss: 0.5248, Accuracy: 8185/10000 (81.85%)\n",
            "\n",
            "Epoch: 11 Learning_Rate [0.010000000000000002]\n"
          ],
          "name": "stdout"
        },
        {
          "output_type": "stream",
          "text": [
            "Loss=0.8112646341323853 Batch_id=781 Accuracy=81.31: 100%|██████████| 782/782 [00:41<00:00, 18.94it/s]\n",
            "  0%|          | 0/782 [00:00<?, ?it/s]"
          ],
          "name": "stderr"
        },
        {
          "output_type": "stream",
          "text": [
            "\n",
            "Test set: Average loss: 0.5243, Accuracy: 8213/10000 (82.13%)\n",
            "\n",
            "Epoch: 12 Learning_Rate [0.010000000000000002]\n"
          ],
          "name": "stdout"
        },
        {
          "output_type": "stream",
          "text": [
            "Loss=0.675116777420044 Batch_id=781 Accuracy=81.76: 100%|██████████| 782/782 [00:41<00:00, 18.90it/s]\n",
            "  0%|          | 0/782 [00:00<?, ?it/s]"
          ],
          "name": "stderr"
        },
        {
          "output_type": "stream",
          "text": [
            "\n",
            "Test set: Average loss: 0.5169, Accuracy: 8205/10000 (82.05%)\n",
            "\n",
            "Epoch: 13 Learning_Rate [0.00010000000000000003]\n"
          ],
          "name": "stdout"
        },
        {
          "output_type": "stream",
          "text": [
            "Loss=0.6900625228881836 Batch_id=781 Accuracy=82.05: 100%|██████████| 782/782 [00:41<00:00, 18.67it/s]\n",
            "  0%|          | 0/782 [00:00<?, ?it/s]"
          ],
          "name": "stderr"
        },
        {
          "output_type": "stream",
          "text": [
            "\n",
            "Test set: Average loss: 0.5104, Accuracy: 8234/10000 (82.34%)\n",
            "\n",
            "Epoch: 14 Learning_Rate [0.0010000000000000002]\n"
          ],
          "name": "stdout"
        },
        {
          "output_type": "stream",
          "text": [
            "Loss=0.9725351333618164 Batch_id=781 Accuracy=82.05: 100%|██████████| 782/782 [00:41<00:00, 18.71it/s]\n",
            "  0%|          | 0/782 [00:00<?, ?it/s]"
          ],
          "name": "stderr"
        },
        {
          "output_type": "stream",
          "text": [
            "\n",
            "Test set: Average loss: 0.5108, Accuracy: 8238/10000 (82.38%)\n",
            "\n",
            "Epoch: 15 Learning_Rate [0.0010000000000000002]\n"
          ],
          "name": "stdout"
        },
        {
          "output_type": "stream",
          "text": [
            "Loss=0.3305704593658447 Batch_id=781 Accuracy=82.53: 100%|██████████| 782/782 [00:41<00:00, 18.66it/s]\n",
            "  0%|          | 0/782 [00:00<?, ?it/s]"
          ],
          "name": "stderr"
        },
        {
          "output_type": "stream",
          "text": [
            "\n",
            "Test set: Average loss: 0.5127, Accuracy: 8236/10000 (82.36%)\n",
            "\n",
            "Epoch: 16 Learning_Rate [0.0010000000000000002]\n"
          ],
          "name": "stdout"
        },
        {
          "output_type": "stream",
          "text": [
            "Loss=0.7300622463226318 Batch_id=781 Accuracy=82.19: 100%|██████████| 782/782 [00:42<00:00, 18.59it/s]\n",
            "  0%|          | 0/782 [00:00<?, ?it/s]"
          ],
          "name": "stderr"
        },
        {
          "output_type": "stream",
          "text": [
            "\n",
            "Test set: Average loss: 0.5125, Accuracy: 8236/10000 (82.36%)\n",
            "\n",
            "Epoch: 17 Learning_Rate [0.0010000000000000002]\n"
          ],
          "name": "stdout"
        },
        {
          "output_type": "stream",
          "text": [
            "Loss=0.7198653221130371 Batch_id=781 Accuracy=82.44: 100%|██████████| 782/782 [00:41<00:00, 18.69it/s]\n",
            "  0%|          | 0/782 [00:00<?, ?it/s]"
          ],
          "name": "stderr"
        },
        {
          "output_type": "stream",
          "text": [
            "\n",
            "Test set: Average loss: 0.5103, Accuracy: 8247/10000 (82.47%)\n",
            "\n",
            "Epoch: 18 Learning_Rate [0.0010000000000000002]\n"
          ],
          "name": "stdout"
        },
        {
          "output_type": "stream",
          "text": [
            "Loss=0.4172874689102173 Batch_id=781 Accuracy=82.42: 100%|██████████| 782/782 [00:41<00:00, 18.68it/s]\n",
            "  0%|          | 0/782 [00:00<?, ?it/s]"
          ],
          "name": "stderr"
        },
        {
          "output_type": "stream",
          "text": [
            "\n",
            "Test set: Average loss: 0.5114, Accuracy: 8235/10000 (82.35%)\n",
            "\n",
            "Epoch: 19 Learning_Rate [1.0000000000000004e-05]\n"
          ],
          "name": "stdout"
        },
        {
          "output_type": "stream",
          "text": [
            "Loss=0.5886644721031189 Batch_id=781 Accuracy=82.44: 100%|██████████| 782/782 [00:41<00:00, 18.94it/s]\n",
            "  0%|          | 0/782 [00:00<?, ?it/s]"
          ],
          "name": "stderr"
        },
        {
          "output_type": "stream",
          "text": [
            "\n",
            "Test set: Average loss: 0.5095, Accuracy: 8241/10000 (82.41%)\n",
            "\n",
            "Epoch: 20 Learning_Rate [0.00010000000000000003]\n"
          ],
          "name": "stdout"
        },
        {
          "output_type": "stream",
          "text": [
            "Loss=0.45713821053504944 Batch_id=781 Accuracy=82.23: 100%|██████████| 782/782 [00:41<00:00, 18.96it/s]\n"
          ],
          "name": "stderr"
        },
        {
          "output_type": "stream",
          "text": [
            "\n",
            "Test set: Average loss: 0.5087, Accuracy: 8260/10000 (82.60%)\n",
            "\n"
          ],
          "name": "stdout"
        }
      ]
    },
    {
      "cell_type": "code",
      "metadata": {
        "id": "qQiieTU8NnLT",
        "colab_type": "code",
        "colab": {}
      },
      "source": [
        ""
      ],
      "execution_count": 0,
      "outputs": []
    }
  ]
}